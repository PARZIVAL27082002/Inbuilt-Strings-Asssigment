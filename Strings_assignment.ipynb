{
  "nbformat": 4,
  "nbformat_minor": 0,
  "metadata": {
    "colab": {
      "provenance": [],
      "authorship_tag": "ABX9TyN+HKGdIr8Gp3ieBIbbIFxj",
      "include_colab_link": true
    },
    "kernelspec": {
      "name": "python3",
      "display_name": "Python 3"
    },
    "language_info": {
      "name": "python"
    }
  },
  "cells": [
    {
      "cell_type": "markdown",
      "metadata": {
        "id": "view-in-github",
        "colab_type": "text"
      },
      "source": [
        "<a href=\"https://colab.research.google.com/github/PARZIVAL27082002/Inbuilt-Strings-Asssigment/blob/main/Strings_assignment.ipynb\" target=\"_parent\"><img src=\"https://colab.research.google.com/assets/colab-badge.svg\" alt=\"Open In Colab\"/></a>"
      ]
    },
    {
      "cell_type": "code",
      "execution_count": 2,
      "metadata": {
        "colab": {
          "base_uri": "https://localhost:8080/"
        },
        "id": "nnl9t6eSh_m7",
        "outputId": "05e5571a-2061-4842-bff5-077ae5a5e540"
      },
      "outputs": [
        {
          "output_type": "stream",
          "name": "stdout",
          "text": [
            "H\n",
            "e\n",
            "l\n",
            "l\n",
            "o\n"
          ]
        }
      ],
      "source": [
        "#The use of len() in python is to get the length of the parameter passed in the function eg string, arrays, lists, tuples or any iterable objects. It returns the number of items\n",
        "#in a sequence.\n",
        "\n",
        "#The length function can be used with strings to find the length for that string which can be used in a for loop or for string slicing.\n",
        "\n",
        "my_string = \"Hello\"\n",
        "for i in range(len(my_string)):\n",
        "    print(my_string[i])\n",
        "\n",
        "\n"
      ]
    },
    {
      "cell_type": "code",
      "source": [
        "#To concatenate two or more strings in Python, we can use the + operator. For example:\n",
        "\n",
        "first_name = \"John\"\n",
        "last_name = \"Smith\"\n",
        "full_name = first_name + \" \" + last_name\n",
        "print(full_name)"
      ],
      "metadata": {
        "colab": {
          "base_uri": "https://localhost:8080/"
        },
        "id": "M5Wae-AxjkWE",
        "outputId": "75d6f49c-5390-4e53-af6a-9ef2cc3812fb"
      },
      "execution_count": 3,
      "outputs": [
        {
          "output_type": "stream",
          "name": "stdout",
          "text": [
            "John Smith\n"
          ]
        }
      ]
    },
    {
      "cell_type": "code",
      "source": [
        "#String slicing in Python is a way to extract a portion of a string using indexing.\n",
        "\n",
        "string = \"Hello world!\"\n",
        "sliced_string = string[:5]\n",
        "print(sliced_string)"
      ],
      "metadata": {
        "colab": {
          "base_uri": "https://localhost:8080/"
        },
        "id": "GmazMHgUj9fq",
        "outputId": "a85563be-fed6-4120-909a-8c9ada890681"
      },
      "execution_count": 4,
      "outputs": [
        {
          "output_type": "stream",
          "name": "stdout",
          "text": [
            "Hello\n"
          ]
        }
      ]
    },
    {
      "cell_type": "code",
      "source": [
        "#To change the case of a string in Python, we can use the upper() and lower() methods.\n",
        "\n",
        "string = \"Hello world!\"\n",
        "uppercase_string = string.upper()\n",
        "print(uppercase_string)\n",
        "\n",
        "string = \"Hello world!\"\n",
        "lowercase_string = string.lower()\n",
        "print(lowercase_string)"
      ],
      "metadata": {
        "colab": {
          "base_uri": "https://localhost:8080/"
        },
        "id": "q0VD6StPkUnn",
        "outputId": "d14cc664-cd1b-4be6-b164-b1626a5f57d9"
      },
      "execution_count": 7,
      "outputs": [
        {
          "output_type": "stream",
          "name": "stdout",
          "text": [
            "HELLO WORLD!\n",
            "hello world!\n"
          ]
        }
      ]
    },
    {
      "cell_type": "code",
      "source": [
        "#The split() method in Python splits a string into a list of substrings based on a delimiter.\n",
        "\n",
        "string = \"Hello world!\"\n",
        "words = string.split('o')\n",
        "print(words)"
      ],
      "metadata": {
        "colab": {
          "base_uri": "https://localhost:8080/"
        },
        "id": "MP6mxyidktyj",
        "outputId": "ef5bd0e1-3f4d-4654-aa3e-4287a8ef127d"
      },
      "execution_count": 8,
      "outputs": [
        {
          "output_type": "stream",
          "name": "stdout",
          "text": [
            "['Hell', ' w', 'rld!']\n"
          ]
        }
      ]
    }
  ]
}